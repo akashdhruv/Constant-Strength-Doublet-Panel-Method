{
 "metadata": {
  "name": ""
 },
 "nbformat": 3,
 "nbformat_minor": 0,
 "worksheets": [
  {
   "cells": [
    {
     "cell_type": "heading",
     "level": 2,
     "metadata": {},
     "source": [
      "                            Airfoil Optimization Using Differential Evolution Algorithm"
     ]
    },
    {
     "cell_type": "heading",
     "level": 4,
     "metadata": {},
     "source": [
      "Code Written by Akash Dhruv"
     ]
    },
    {
     "cell_type": "heading",
     "level": 4,
     "metadata": {},
     "source": [
      "MAE 6226- Aero/Hydro Dynamics"
     ]
    },
    {
     "cell_type": "heading",
     "level": 5,
     "metadata": {},
     "source": [
      "The MIT License (MIT)\n",
      "\n",
      "Copyright (c) <year> <copyright holders>\n",
      "\n",
      "Permission is hereby granted, free of charge, to any person obtaining a copy\n",
      "of this software and associated documentation files (the \"Software\"), to deal\n",
      "in the Software without restriction, including without limitation the rights\n",
      "to use, copy, modify, merge, publish, distribute, sublicense, and/or sell\n",
      "copies of the Software, and to permit persons to whom the Software is\n",
      "furnished to do so, subject to the following conditions:\n",
      "\n",
      "The above copyright notice and this permission notice shall be included in\n",
      "all copies or substantial portions of the Software.\n",
      "\n",
      "THE SOFTWARE IS PROVIDED \"AS IS\", WITHOUT WARRANTY OF ANY KIND, EXPRESS OR\n",
      "IMPLIED, INCLUDING BUT NOT LIMITED TO THE WARRANTIES OF MERCHANTABILITY,\n",
      "FITNESS FOR A PARTICULAR PURPOSE AND NONINFRINGEMENT. IN NO EVENT SHALL THE\n",
      "AUTHORS OR COPYRIGHT HOLDERS BE LIABLE FOR ANY CLAIM, DAMAGES OR OTHER\n",
      "LIABILITY, WHETHER IN AN ACTION OF CONTRACT, TORT OR OTHERWISE, ARISING FROM,\n",
      "OUT OF OR IN CONNECTION WITH THE SOFTWARE OR THE USE OR OTHER DEALINGS IN\n",
      "THE SOFTWARE."
     ]
    },
    {
     "cell_type": "markdown",
     "metadata": {},
     "source": [
      "Evolutionary Algorithms have been widely used in Engineering application to obtain desired designs from the give set of parameters. Following code implements use of differential Evolution Algorithm to optimize aerodynamic shape. \n",
      "\n",
      "Differential Evolution Algorithm is essentialy a cost effective algorithm used to globally optimize a function. The algorithm takes a set of parameters influening the function and calculates best set of parameters between the given bounds for minimum cost. \n",
      "\n",
      "For implementation in airfoil optimization process, the differential evolution algorithm takes the parameters influencing the airfoil design as inputs and returns the best possible airfoil within the given bounds for maximum lift coeffcient.\n",
      "\n",
      "To define the geometry of an airfoil from a given set of parameters a function is defined which will return the x and y co-ordinates of airfoil. In this case the function uses standard definition of NACA 4-digit airfoils to generate the airfoil shape.\n",
      "\n",
      "The 4 digits of NACA 4412 airfoil represent following quantities:\n",
      "\n",
      "1. First digit describing maximum camber as percentage of the chord.\n",
      "2. Second digit describing the distance of maximum camber from the airfoil leading edge in tens of percents of the chord.\n",
      "3. Last two digits describing maximum thickness of the airfoil as percent of the chord.\n",
      "\n",
      "Note:- A function can also be designed to generate airfoil using parametric equations.\n"
     ]
    },
    {
     "cell_type": "code",
     "collapsed": false,
     "input": [
      "import numpy as np\n",
      "import matplotlib.pyplot as plt\n",
      "from math import *\n",
      "import time\n",
      "%matplotlib inline"
     ],
     "language": "python",
     "metadata": {},
     "outputs": [],
     "prompt_number": 1
    },
    {
     "cell_type": "markdown",
     "metadata": {},
     "source": [
      "The function is written by the design procedure published in NACA reports. \n",
      "http://people.clarkson.edu/~pmarzocc/AE429/The%20NACA%20airfoil%20series.pdf"
     ]
    },
    {
     "cell_type": "code",
     "collapsed": false,
     "input": [
      "def NACA(naca,c,n):\n",
      "    \n",
      "    H=float(naca[0])/100\n",
      "    p=float(naca[1])/10\n",
      "    t1=float(naca[2])\n",
      "    t2=float(naca[3])\n",
      "    T=10*t1+t2\n",
      "    T=T/100\n",
      "\n",
      "    beta=np.linspace(0,pi,n+1)\n",
      "    xc=np.zeros(np.size(beta))\n",
      "    for i in range(n+1):\n",
      "        xc[i]=c*(1-.5*(1-cos(beta[i])))\n",
      "    \n",
      "    thdis=np.zeros(np.size(xc))\n",
      "    \n",
      "    for i in range(n+1):\n",
      "        thdis[i]=5*T*c*(0.2969*sqrt(xc[i]/c)-0.126*xc[i]/c-0.3537*(xc[i]/c)**2 +0.2843*(xc[i]/c)**3-0.1015*(xc[i]/c)**4)\n",
      "    \n",
      "    camberline=np.zeros(np.size(beta))\n",
      "    \n",
      "    if(p!=0.0 and H!=0.0):\n",
      "        for i in range(n+1):\n",
      "            if(xc[i] <= p*c):\n",
      "                camberline[i]=(H/p**2)*xc[i]*(2*p-xc[i]/c)\n",
      "            elif(xc[i] > p*c):\n",
      "                camberline[i]=(H/(1-p)**2)*(c-xc[i])*(1+xc[i]/c-2*p)\n",
      "    \n",
      "    xu=np.zeros(np.size(xc))\n",
      "    xl=np.zeros(np.size(xc))\n",
      "    zu=np.zeros(np.size(xc))\n",
      "    zl=np.zeros(np.size(xc))\n",
      "    tht=np.zeros(np.size(xc))\n",
      "                \n",
      "    if(p==0 or H==0):\n",
      "        xu=xc\n",
      "        zu=thdis\n",
      "        xl=xc\n",
      "        zl=-thdis\n",
      "    else:\n",
      "        for i in range(n+1):\n",
      "            if(xc[i] <= p*c):\n",
      "                tht[i]=atan((2*H/p)*(-xc[i]/(c*p)+1))\n",
      "            elif(xc[i] > p*c):\n",
      "                tht[i]=atan((2*H/(1-p**2))*(p-(xc[i]/c)))\n",
      "            xu[i]=xc[i]-thdis[i]*sin(tht[i])\n",
      "            zu[i]=camberline[i]+thdis[i]*cos(tht[i])\n",
      "            xl[i]=xc[i]+thdis[i]*sin(tht[i])\n",
      "            zl[i]=camberline[i]-thdis[i]*cos(tht[i])\n",
      "        \n",
      "        \n",
      "    X=np.zeros((n+n+1,1),dtype=float)\n",
      "    Z=np.zeros((n+n+1,1),dtype=float)\n",
      "    for i in range(n+1):\n",
      "        X[i]=xl[i]\n",
      "        Z[i]=zl[i]\n",
      "    \n",
      "\n",
      "    for i in range(n):\n",
      "        X[n+1+i]=xu[n-i-1]\n",
      "        Z[n+1+i]=zu[n-i-1]\n",
      "        \n",
      "    return X,Z"
     ],
     "language": "python",
     "metadata": {},
     "outputs": [],
     "prompt_number": 2
    },
    {
     "cell_type": "markdown",
     "metadata": {},
     "source": [
      "Next a class is defined to store freestream values"
     ]
    },
    {
     "cell_type": "code",
     "collapsed": false,
     "input": [
      "class freestream:\n",
      "    def __init__(self,qinf,al):\n",
      "        self.qinf=qinf # Resultant velocity\n",
      "        self.alpha=al*pi/180 # Angle of Attack\n",
      "        self.uinf=qinf*cos(al*pi/180) # X-Velocity\n",
      "        self.vinf=qinf*sin(al*pi/180) # Y- Velocity"
     ],
     "language": "python",
     "metadata": {},
     "outputs": [],
     "prompt_number": 3
    },
    {
     "cell_type": "markdown",
     "metadata": {},
     "source": [
      "A class to store a panels's parameters is also defined"
     ]
    },
    {
     "cell_type": "code",
     "collapsed": false,
     "input": [
      "class Panel:\n",
      "    def __init__(self,xa,ya,xb,yb):\n",
      "        self.xa=xa # panel co-ordinate left\n",
      "        self.ya=ya # panel ordinate left\n",
      "        self.xb=xb # panel co-ordinate right\n",
      "        self.yb=yb # panel ordinate right\n",
      "        self.xc=(xa+xb)/2 # co-ordinate of panel collocation point\n",
      "        self.yc=(ya+yb)/2 # ordinate of panel collocation point\n",
      "        self.al=atan2((ya-yb),(xb-xa)) # Panel angle of attack\n",
      "        self.mu=0 # panel doublet strength\n",
      "        self.Vt=0 # panel tangential velocity\n",
      "        self.Cp=0 # panel Cp"
     ],
     "language": "python",
     "metadata": {},
     "outputs": [],
     "prompt_number": 4
    },
    {
     "cell_type": "markdown",
     "metadata": {},
     "source": [
      "Next a function PHICD is defined which calculates the influence of a constant strength doublet panel on a given point.\n",
      "\n",
      "The intergral equation for the velocity potential induced by a panel on a given point is given by\n",
      "\n",
      "$$\n",
      "\\phi (x,y)=-\\frac{\\mu }{2\\pi }\\int_{x_1}^{x_2}\\frac{y}{(x-x_0)^{2}+y^{2}}dx_0\n",
      "$$\n",
      "\n",
      "Integrating the above equation will result in following equation.\n",
      "\n",
      "$$\n",
      "\\phi =-\\frac{\\mu }{2\\pi}\\left [ tan^{-1}\\frac{y}{x-x_2}-tan^{-1}\\frac{y}{x-x_1} \\right ]\n",
      "$$\n",
      "\n",
      "The important thing to note here is that the integrated equation is in panel co-ordinates and thus co-ordinates of the point and the panel end points need to converted into panel co-ordinates using the panel angle of attack.\n",
      "\n",
      "(Function PHICD to get value of induced potential by a panel at a given point, Katz and Plotkin 1991 Page 333 equation number 11.64)"
     ]
    },
    {
     "cell_type": "code",
     "collapsed": false,
     "input": [
      "def PHICD(mu,xc,yc,panel):\n",
      "    \n",
      "    # Function defition PHICD(mu,xc,yc,panel)\n",
      "    # mu-doublet strength of the panel\n",
      "    # xc,yc- point at which the induced potential needs to be calculated\n",
      "    # panel- object which stores panel properties\n",
      "    # Function returns phi, the potential induced by the panel\n",
      "    \n",
      "    # Converting points in panel co-ordinates\n",
      "    xR=cos(panel.al)*(panel.xb-panel.xa)-sin(panel.al)*(panel.yb-panel.ya) \n",
      "    x=cos(panel.al)*(xc-panel.xa)-sin(panel.al)*(yc-panel.ya)\n",
      "    y=sin(panel.al)*(xc-panel.xa)+cos(panel.al)*(yc-panel.ya)\n",
      "    \n",
      "    #Calculating Phi\n",
      "    phi=-(mu/(2*pi))*((atan2(y,x-xR))-(atan2(y,x)));\n",
      "    \n",
      "    return phi"
     ],
     "language": "python",
     "metadata": {},
     "outputs": [],
     "prompt_number": 5
    },
    {
     "cell_type": "markdown",
     "metadata": {},
     "source": [
      "Next a function is defined for constant strength doublet panel method which will be used to optimize the airfoil. The function will take the panel geometry (x,y) as the arguments and will return the Coeffcient of Lift. One wake panel is added after the trailing edge and the kutta condition is satisfied by the equation.\n",
      "\n",
      "$$ \\mu_{w}=\\mu_{N-1}-\\mu_{1} $$\n",
      "\n",
      "where '1' is the low-trailing edge collocation point and 'N-1' is the upper-trailing edge collocation point. (Number of airfoil panels are N).\n",
      "\n",
      "The kutta condition states that the doublet strength of wake collocation is the difference of doublet strengths of upper and lower trailing edge panels."
     ]
    },
    {
     "cell_type": "code",
     "collapsed": false,
     "input": [
      "def panelmethod(xp,yp):\n",
      "\n",
      "    M=len(xp)\n",
      "\n",
      "    panel=np.empty(M,dtype=object) # Defining objects for class Panel\n",
      "\n",
      "    # Storing panel information\n",
      "    for i in range(M):\n",
      "        if(i==M-1):\n",
      "            panel[i]=Panel(xp[-1],yp[-1],100000,yp[-1])#Adding wake panel at the end\n",
      "        else:\n",
      "            panel[i]=Panel(xp[i],yp[i],xp[i+1],yp[i+1])\n",
      "    \n",
      "    \n",
      "    qinf=1.0 # freestream velocity\n",
      "    alpha=5.0\n",
      "    \n",
      "    fstream=freestream(qinf,alpha) # fstream object of class freestream\n",
      "    \n",
      "    \n",
      "    A=np.zeros((M,M),dtype=float) # Array for influence coeffcients\n",
      "    \n",
      "    for i in range(M-1):\n",
      "        for j in range(M):\n",
      "            if (i==j):\n",
      "                A[i][j]=0.5\n",
      "            else:\n",
      "                A[i][j]=PHICD(1,panel[i].xc,panel[i].yc,panel[j])\n",
      "    \n",
      "    \n",
      "    # Explicit Kutta Condition\n",
      "    A[M-1][0]=1\n",
      "    A[M-1][M-2]=-1\n",
      "    A[M-1][M-1]=1\n",
      "    \n",
      "    RHS=np.zeros((M,1),dtype=float) # Vector for RHS\n",
      "    \n",
      "    # RHS=negative of velocity potential due to freestream\n",
      "    for i in range(M-1):\n",
      "        RHS[i]=-fstream.uinf*panel[i].xc-fstream.vinf*panel[i].yc\n",
      "    \n",
      "    \n",
      "    mu=np.linalg.solve(A,RHS) # Solving to get doublet strengths\n",
      "    \n",
      "\n",
      "    # Loop to calculate Cp and Cl\n",
      "    # Equations Katz and Plotkin 1991 Page 336\n",
      "\n",
      "    Cl=0\n",
      "    for i in range(M-1):\n",
      "        if i==0:\n",
      "            R = sqrt((panel[1].xc-panel[0].xc)**2+(panel[1].yc-panel[0].yc)**2);\n",
      "            panel[i].Vt= (mu[1]-mu[0])/R;\n",
      "        elif i==M-2:\n",
      "            R = sqrt((panel[M-2].xc-panel[M-3].xc)**2+(panel[M-2].yc-panel[M-3].yc)**2);\n",
      "            panel[i].Vt= (mu[M-2]-mu[M-3])/R;\n",
      "        else:\n",
      "            R = sqrt((panel[i+1].xc-panel[i-1].xc)**2+(panel[i+1].yc-panel[i-1].yc)**2);\n",
      "            panel[i].Vt= (mu[i+1]-mu[i-1])/R;\n",
      "        \n",
      "        panel[i].Cp=1-((panel[i].Vt/qinf)**2)\n",
      "        Cl=Cl-panel[i].Vt*R\n",
      "    \n",
      "    return Cl"
     ],
     "language": "python",
     "metadata": {},
     "outputs": [],
     "prompt_number": 6
    },
    {
     "cell_type": "markdown",
     "metadata": {},
     "source": [
      "The following is the Main function. This function executes the Differential Evoultion part of the code.\n",
      "\n",
      "Initially, the chord length and the number of panels required per surface are assigned"
     ]
    },
    {
     "cell_type": "code",
     "collapsed": false,
     "input": [
      "N=50 # Number of Panels per surface\n",
      "c=1  # Chord Length "
     ],
     "language": "python",
     "metadata": {},
     "outputs": [],
     "prompt_number": 7
    },
    {
     "cell_type": "markdown",
     "metadata": {},
     "source": [
      "Now, an array 'naca' is defind which will store the parameter values for the intial arifoil. In this case naca=[0,0,1,2] representing NACA 0012 airfoil. After assinging the initial parameters the geometry of the airfoil is calculated using function NACA"
     ]
    },
    {
     "cell_type": "code",
     "collapsed": false,
     "input": [
      "naca=[0,0,1,2]\n",
      "xp,yp=NACA(naca,c,N)\n",
      "\n",
      "plt.figure()\n",
      "plt.plot(xp,yp,label='Initial')\n",
      "plt.axis(\"equal\")\n",
      "plt.show()\n",
      "\n",
      "xinit=xp # Storing the Initial airfoil values \n",
      "yinit=yp\n"
     ],
     "language": "python",
     "metadata": {},
     "outputs": [
      {
       "metadata": {},
       "output_type": "display_data",
       "png": "[encoded data removed]",
       "text": [
        "<matplotlib.figure.Figure at 0x8224b38>"
       ]
      }
     ],
     "prompt_number": 8
    },
    {
     "cell_type": "markdown",
     "metadata": {},
     "source": [
      "Now function panelmethod is called to get the Cl of this initial airfoil"
     ]
    },
    {
     "cell_type": "code",
     "collapsed": false,
     "input": [
      "Clinitial=panelmethod(xp,yp)\n",
      "print \"Initial Lift Coeffecient= \", Clinitial"
     ],
     "language": "python",
     "metadata": {},
     "outputs": [
      {
       "output_type": "stream",
       "stream": "stdout",
       "text": [
        "Initial Lift Coeffecient=  [ 0.60052636]\n"
       ]
      }
     ],
     "prompt_number": 9
    },
    {
     "cell_type": "markdown",
     "metadata": {},
     "source": [
      "Now the required values for Differential Evolution are assinged"
     ]
    },
    {
     "cell_type": "code",
     "collapsed": false,
     "input": [
      "Np=5 # Sample Space of Initial Conditions\n",
      "D=4  # Parameter Size\n",
      "genmax=20 # Number of Iterations\n",
      "F=0.5 # Mutation Factor\n",
      "CR=0.9 # Cross Over Ratio"
     ],
     "language": "python",
     "metadata": {},
     "outputs": [],
     "prompt_number": 10
    },
    {
     "cell_type": "markdown",
     "metadata": {},
     "source": [
      "now we declare two array a and b of size (Np,D) to storing the lower and upper bounds of the parameters. Also we declare arrays diff to store Residual values of Cl at each generation and Cliter to store Cl values at each generation."
     ]
    },
    {
     "cell_type": "code",
     "collapsed": false,
     "input": [
      "a=np.zeros((Np,D),dtype=float) # Array to store the lower bounds\n",
      "b=np.zeros((Np,D),dtype=float) # Array to store the upper bounds\n",
      "\n",
      "diff=np.zeros(genmax,dtype=float)\n",
      "Cliter=np.zeros(genmax,dtype=float)\n",
      "Cliter[0]=Clinitial\n",
      "tik=0"
     ],
     "language": "python",
     "metadata": {},
     "outputs": [],
     "prompt_number": 11
    },
    {
     "cell_type": "markdown",
     "metadata": {},
     "source": [
      "Next we assign the lower and upper bounds of the intial parameters and calculate intial array x(Np,D) generating random values from the given set of a and b"
     ]
    },
    {
     "cell_type": "code",
     "collapsed": false,
     "input": [
      "for i in range(Np):\n",
      "    a[i][0]=naca[0] # Lower bound of the first parameter\n",
      "    a[i][1]=naca[1] # Lower bound of the second parameter\n",
      "    a[i][2]=naca[2] # Lower bound of the third parameter\n",
      "    a[i][3]=naca[3]-7 # Lower bound of the fourth parameter\n",
      "\n",
      "for i in range(Np):\n",
      "    b[i][0]=naca[0]+1 # Upper bound of the first parameter\n",
      "    b[i][1]=naca[1]+1 # Upper bound of the second parameter\n",
      "    b[i][2]=naca[2] # Upper bound of the thrid parameter\n",
      "    b[i][3]=naca[3]-1 # Upper bound of the fourth parameter\n",
      "\n",
      "x=a+(b-a)*(np.random.random((Np,D))) # Set of inital parameters"
     ],
     "language": "python",
     "metadata": {},
     "outputs": [],
     "prompt_number": 12
    },
    {
     "cell_type": "markdown",
     "metadata": {},
     "source": [
      "Assinging loop counter and creating a trail vector trail(Np,D) to generate trail values which will be tested with the randomly calculated values x(Np,D)"
     ]
    },
    {
     "cell_type": "code",
     "collapsed": false,
     "input": [
      "count=1\n",
      "trail=np.zeros((Np,D),dtype=float)"
     ],
     "language": "python",
     "metadata": {},
     "outputs": [],
     "prompt_number": 13
    },
    {
     "cell_type": "markdown",
     "metadata": {},
     "source": [
      "Now executing differential evolution loop"
     ]
    },
    {
     "cell_type": "code",
     "collapsed": false,
     "input": [
      "while (genmax>count):\n",
      "    for i in range(Np):\n",
      "        # Generating three random indices\n",
      "        k=i \n",
      "        l=i\n",
      "        m=i\n",
      "        \n",
      "        while k==i:\n",
      "            k=np.random.randint(1,Np)\n",
      "        \n",
      "        while l==i or l==k:\n",
      "            l=np.random.randint(1,Np)\n",
      "        \n",
      "        while m==i or m==l or m==k:\n",
      "            m=np.random.randint(1,Np)\n",
      "        \n",
      "        # Calculating trail vector using mutation and cross over factors\n",
      "        \n",
      "        for j in range(D):\n",
      "            if(np.random.random(1)<=CR or j==D):\n",
      "                trail[i][j]=x[k][j]+F*(x[l][j]-x[m][j])\n",
      "            else:\n",
      "                trail[i][j]=x[i][j]\n",
      "        \n",
      "        # Getting the function output 'score' for a set of calculated trail vectors\n",
      "        xp,yp=NACA([trail[i][0],trail[i][1],trail[i][2],trail[i][3]],c,N)\n",
      "        score=panelmethod(xp,yp)\n",
      "        \n",
      "        # Checking if the optimization criteria is met\n",
      "        \n",
      "        if(score>=Clinitial and trail[i][0]>=0 and trail[i][1]>=0 and trail [i][2]>=0):\n",
      "            \n",
      "            diff[tik]=score-Clinitial # Calculating the difference between best Cl and the Cl calculated at this step\n",
      "            Cliter[tik+1]=score # Storing the Cl value at this generation\n",
      "            tik=tik+1 # increasing the generation step counter which different from the iteration counter 'count'\n",
      "            \n",
      "            naca[0]=trail[i][0] # assinging the trail value to the original naca array\n",
      "            naca[1]=trail[i][1]\n",
      "            naca[2]=trail[i][2]\n",
      "            naca[3]=trail[i][3]\n",
      "            \n",
      "            Clinitial=score # Storing the best value, 'score' to compare in the next iteration\n",
      "    count=count+1 # Increasing the iteration counter"
     ],
     "language": "python",
     "metadata": {},
     "outputs": [],
     "prompt_number": 14
    },
    {
     "cell_type": "markdown",
     "metadata": {},
     "source": [
      "Plotting the results"
     ]
    },
    {
     "cell_type": "code",
     "collapsed": false,
     "input": [
      "xp,yp=NACA(naca,c,N)\n",
      "Clf=panelmethod(xp,yp)\n",
      "print \"Final Lift Coeffecient= \",Clf\n",
      "\n",
      "plt.figure()\n",
      "plt.plot(xinit,yinit,label='Initial')\n",
      "plt.plot(xp,yp,label='Optimised')\n",
      "plt.axis(\"equal\")\n",
      "plt.legend()\n",
      "plt.show()"
     ],
     "language": "python",
     "metadata": {},
     "outputs": [
      {
       "output_type": "stream",
       "stream": "stdout",
       "text": [
        "Final Lift Coeffecient=  [ 0.66872269]\n"
       ]
      },
      {
       "metadata": {},
       "output_type": "display_data",
       "png": "[encoded data removed]",
       "text": [
        "<matplotlib.figure.Figure at 0x821a780>"
       ]
      }
     ],
     "prompt_number": 15
    },
    {
     "cell_type": "markdown",
     "metadata": {},
     "source": [
      "Conclusion:\n",
      "\n",
      "The code can be extended to parametric airfoil designs. Adding Boundary Layer correction will also help in minimizing Coefficient of Drag. This can be accomplished by a constant strength doublet-source panel method, using a boundary layer correction\n"
     ]
    },
    {
     "cell_type": "markdown",
     "metadata": {},
     "source": [
      "References:\n",
      "\n",
      "1. Emre Alpman, \u201cAirfoil Optimization Using Evolutionary Algorithms\u201d, Penn State University\n",
      "2. Kelly Fleetwood, \u201cAn Introduction to Differential Evolution\u201d.\n",
      "3. Katz and Plotkin Low Speed Aerodynamics"
     ]
    }
   ],
   "metadata": {}
  }
 ]
}